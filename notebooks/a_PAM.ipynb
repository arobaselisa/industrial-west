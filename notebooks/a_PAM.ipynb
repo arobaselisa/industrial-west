{
 "cells": [
  {
   "cell_type": "markdown",
   "id": "9505897e",
   "metadata": {},
   "source": [
    "Script inspired from **(C) Germans Savcisens. 22-09-2022**"
   ]
  },
  {
   "cell_type": "markdown",
   "id": "45b1a59e",
   "metadata": {},
   "source": [
    "# 1. Import the data"
   ]
  },
  {
   "cell_type": "code",
   "execution_count": 1,
   "id": "21743101",
   "metadata": {},
   "outputs": [],
   "source": [
    "import tomotopy as tp\n",
    "import pandas as pd\n",
    "import time\n",
    "import numpy as np\n",
    "import matplotlib.pyplot as plt\n",
    "import seaborn as sns\n",
    "from random import randrange\n",
    "import spacy\n",
    "import unidecode\n",
    "import helpers"
   ]
  },
  {
   "cell_type": "markdown",
   "id": "556dcf00",
   "metadata": {},
   "source": [
    "The data should be a csv file containing the following columns :\n",
    "- \"publication_date\" : date of the journal, YYYY-MM-DD\n",
    "- \"content\" : the text in the journal"
   ]
  },
  {
   "cell_type": "code",
   "execution_count": 2,
   "id": "84fceb3e",
   "metadata": {},
   "outputs": [],
   "source": [
    "DATA_PATH = \"../data/coal_articles_es.csv\"\n",
    "KW = \"carbon\" # without accent\n",
    "JOURNAL = \"Imparcial\"\n",
    "START_DATE = pd.to_datetime(\"1920-01-01\") ## Articles on this date WILL be included\n",
    "END_DATE = pd.to_datetime(\"1930-01-01\") ## Articles on this date WON't be included \n",
    "SPACY_LANGUAGE = \"es_core_news_sm\" ## To change according to the corpus, french : fr_core_news_sm"
   ]
  },
  {
   "cell_type": "code",
   "execution_count": 3,
   "id": "7b669f44",
   "metadata": {},
   "outputs": [],
   "source": [
    "data = pd.read_csv(DATA_PATH, index_col=\"Unnamed: 0\") \n",
    "#data = pd.read_csv(DATA_PATH, index_col=\"id\") # german ones"
   ]
  },
  {
   "cell_type": "markdown",
   "id": "fe35ca13",
   "metadata": {},
   "source": [
    "# 2. Data Processing"
   ]
  },
  {
   "cell_type": "code",
   "execution_count": 4,
   "id": "b81a5c5b",
   "metadata": {},
   "outputs": [],
   "source": [
    "data[\"publication_date\"] = pd.to_datetime(data[\"publication_date\"]) #add format='%Y' for italian ones"
   ]
  },
  {
   "cell_type": "code",
   "execution_count": 5,
   "id": "00771936",
   "metadata": {
    "scrolled": true
   },
   "outputs": [
    {
     "data": {
      "text/plain": [
       "<matplotlib.axes._subplots.AxesSubplot at 0x7f9c390b3400>"
      ]
     },
     "execution_count": 5,
     "metadata": {},
     "output_type": "execute_result"
    },
    {
     "data": {
      "image/png": "[encoded data removed]",
      "text/plain": [
       "<Figure size 2000x300 with 1 Axes>"
      ]
     },
     "metadata": {},
     "output_type": "display_data"
    }
   ],
   "source": [
    "data.groupby(data[\"publication_date\"].dt.year).count().plot(kind=\"bar\", figsize=(20, 3))"
   ]
  },
  {
   "cell_type": "code",
   "execution_count": 6,
   "id": "7b355e41",
   "metadata": {
    "scrolled": true
   },
   "outputs": [
    {
     "data": {
      "text/html": [
       "<div>\n",
       "<style scoped>\n",
       "    .dataframe tbody tr th:only-of-type {\n",
       "        vertical-align: middle;\n",
       "    }\n",
       "\n",
       "    .dataframe tbody tr th {\n",
       "        vertical-align: top;\n",
       "    }\n",
       "\n",
       "    .dataframe thead th {\n",
       "        text-align: right;\n",
       "    }\n",
       "</style>\n",
       "<table border=\"1\" class=\"dataframe\">\n",
       "  <thead>\n",
       "    <tr style=\"text-align: right;\">\n",
       "      <th></th>\n",
       "      <th>publication_date</th>\n",
       "      <th>content</th>\n",
       "    </tr>\n",
       "  </thead>\n",
       "  <tbody>\n",
       "    <tr>\n",
       "      <th>imparcial_19290927</th>\n",
       "      <td>1929-09-27</td>\n",
       "      <td>I&gt;aís, tiende a salir de la grave crisis que ...</td>\n",
       "    </tr>\n",
       "    <tr>\n",
       "      <th>imparcial_19280530</th>\n",
       "      <td>1928-05-30</td>\n",
       "      <td>Ladrones desconocidos, utilizando riano Kiemb...</td>\n",
       "    </tr>\n",
       "    <tr>\n",
       "      <th>imparcial_19290116</th>\n",
       "      <td>1929-01-16</td>\n",
       "      <td>drama inglés\", \"Los fundamentos do u n t e a ...</td>\n",
       "    </tr>\n",
       "  </tbody>\n",
       "</table>\n",
       "</div>"
      ],
      "text/plain": [
       "                   publication_date  \\\n",
       "imparcial_19290927       1929-09-27   \n",
       "imparcial_19280530       1928-05-30   \n",
       "imparcial_19290116       1929-01-16   \n",
       "\n",
       "                                                              content  \n",
       "imparcial_19290927   I>aís, tiende a salir de la grave crisis que ...  \n",
       "imparcial_19280530   Ladrones desconocidos, utilizando riano Kiemb...  \n",
       "imparcial_19290116   drama inglés\", \"Los fundamentos do u n t e a ...  "
      ]
     },
     "execution_count": 6,
     "metadata": {},
     "output_type": "execute_result"
    }
   ],
   "source": [
    "data_filtered = helpers.load_preprocess_df(DATA_PATH, START_DATE, END_DATE, [KW], JOURNAL)\n",
    "data_filtered.head(3)"
   ]
  },
  {
   "cell_type": "code",
   "execution_count": 7,
   "id": "be0b14ff",
   "metadata": {
    "scrolled": false
   },
   "outputs": [
    {
     "name": "stdout",
     "output_type": "stream",
     "text": [
      "Lenght of FILTERED dataset: 2264\n"
     ]
    }
   ],
   "source": [
    "print(\"Lenght of FILTERED dataset:\", len(data_filtered))"
   ]
  },
  {
   "cell_type": "markdown",
   "id": "f761bdf4",
   "metadata": {},
   "source": [
    "# 3. Topic Modelling"
   ]
  },
  {
   "cell_type": "code",
   "execution_count": 8,
   "id": "4ec839fd",
   "metadata": {},
   "outputs": [
    {
     "name": "stdout",
     "output_type": "stream",
     "text": [
      "Create corpus for tp model...\n",
      "Runtime: 0.21 seconds || Completed: 1 of 2264\n",
      "Runtime: 8115.55 seconds || Completed: 501 of 2264\n",
      "Runtime: 29855.49 seconds || Completed: 1001 of 2264\n",
      "Runtime: 38268.28 seconds || Completed: 1501 of 2264\n",
      "Runtime: 38402.85 seconds || Completed: 2001 of 2264\n",
      "Done !\n"
     ]
    }
   ],
   "source": [
    "print(\"Create corpus for tp model...\")\n",
    "_, corpus = helpers.create_corpus(data_filtered, SPACY_LANGUAGE) #.sample(2000)\n",
    "print(\"Done !\")"
   ]
  },
  {
   "cell_type": "code",
   "execution_count": 9,
   "id": "685f7800",
   "metadata": {
    "scrolled": true
   },
   "outputs": [
    {
     "name": "stdout",
     "output_type": "stream",
     "text": [
      "Runtime: 37.21 seconds || Number of Searches: 1 out of  47\n",
      "Runtime: 83.06 seconds || Number of Searches: 2 out of  47\n",
      "Runtime: 133.38 seconds || Number of Searches: 3 out of  47\n",
      "Runtime: 191.16 seconds || Number of Searches: 4 out of  47\n",
      "Runtime: 253.90 seconds || Number of Searches: 5 out of  47\n",
      "Runtime: 320.22 seconds || Number of Searches: 6 out of  47\n",
      "Runtime: 390.81 seconds || Number of Searches: 7 out of  47\n",
      "Runtime: 444.77 seconds || Number of Searches: 8 out of  47\n",
      "Runtime: 503.04 seconds || Number of Searches: 9 out of  47\n",
      "Runtime: 566.82 seconds || Number of Searches: 10 out of  47\n",
      "Runtime: 635.19 seconds || Number of Searches: 11 out of  47\n",
      "Runtime: 706.61 seconds || Number of Searches: 12 out of  47\n",
      "Runtime: 787.63 seconds || Number of Searches: 13 out of  47\n",
      "Runtime: 869.45 seconds || Number of Searches: 14 out of  47\n",
      "Runtime: 955.62 seconds || Number of Searches: 15 out of  47\n",
      "Runtime: 1020.71 seconds || Number of Searches: 16 out of  47\n",
      "Runtime: 1091.01 seconds || Number of Searches: 17 out of  47\n",
      "Runtime: 1164.28 seconds || Number of Searches: 18 out of  47\n",
      "Runtime: 1242.15 seconds || Number of Searches: 19 out of  47\n",
      "Runtime: 1325.38 seconds || Number of Searches: 20 out of  47\n",
      "Runtime: 1409.23 seconds || Number of Searches: 21 out of  47\n",
      "Runtime: 1499.03 seconds || Number of Searches: 22 out of  47\n",
      "Runtime: 1591.77 seconds || Number of Searches: 23 out of  47\n",
      "Runtime: 1666.31 seconds || Number of Searches: 24 out of  47\n",
      "Runtime: 1719.77 seconds || Number of Searches: 25 out of  47\n",
      "Runtime: 1782.50 seconds || Number of Searches: 26 out of  47\n",
      "Runtime: 1844.39 seconds || Number of Searches: 27 out of  47\n",
      "Runtime: 1913.86 seconds || Number of Searches: 28 out of  47\n",
      "Runtime: 1985.82 seconds || Number of Searches: 29 out of  47\n",
      "Runtime: 2066.48 seconds || Number of Searches: 30 out of  47\n",
      "Runtime: 2141.88 seconds || Number of Searches: 31 out of  47\n",
      "Runtime: 2225.05 seconds || Number of Searches: 32 out of  47\n",
      "Runtime: 2309.15 seconds || Number of Searches: 33 out of  47\n",
      "Runtime: 2401.79 seconds || Number of Searches: 34 out of  47\n",
      "Runtime: 2492.87 seconds || Number of Searches: 35 out of  47\n",
      "Runtime: 2593.70 seconds || Number of Searches: 36 out of  47\n",
      "Runtime: 2709.75 seconds || Number of Searches: 37 out of  47\n",
      "Runtime: 2819.25 seconds || Number of Searches: 38 out of  47\n",
      "Runtime: 2927.74 seconds || Number of Searches: 39 out of  47\n",
      "Runtime: 3045.84 seconds || Number of Searches: 40 out of  47\n",
      "Runtime: 3169.01 seconds || Number of Searches: 41 out of  47\n",
      "Runtime: 3311.62 seconds || Number of Searches: 42 out of  47\n",
      "Runtime: 3445.54 seconds || Number of Searches: 43 out of  47\n",
      "Runtime: 3578.02 seconds || Number of Searches: 44 out of  47\n",
      "Runtime: 3713.48 seconds || Number of Searches: 45 out of  47\n",
      "Runtime: 3854.87 seconds || Number of Searches: 46 out of  47\n",
      "Runtime: 4000.88 seconds || Number of Searches: 47 out of  47\n"
     ]
    }
   ],
   "source": [
    "############################################\n",
    "###### You should change only this\n",
    "k1_max = 3 ###(min 1) if k1_max - 1 == best k1\n",
    "k2_max = 25\n",
    "### k2 should always be higher than k1 (min 1)\n",
    "####################\n",
    "params = []\n",
    "scores = []\n",
    "num_iter = 0\n",
    "max_iter = 0\n",
    "for k1 in range(1, k1_max):\n",
    "    for k2 in range(k1,k2_max):\n",
    "        max_iter +=1\n",
    "        \n",
    "start = time.time()\n",
    "for k1 in range(1, k1_max):\n",
    "    for k2 in range(k1,k2_max):\n",
    "        num_iter+=1\n",
    "        model = tp.PAModel(tw=tp.TermWeight.IDF, min_df=10, rm_top=10, k1=k1, k2=k2, corpus=corpus, seed=0)\n",
    "        model.train(500, workers=1)\n",
    "        score = tp.coherence.Coherence(model, coherence=\"c_v\").get_score() #try with 'u_mass' instead of 'c_v' \n",
    "        params.append((k1,k2))\n",
    "        scores.append(score)\n",
    "        print(\"Runtime: %.2f seconds\" %(time.time() - start), \"|| Number of Searches: %s out of  %s\" %(num_iter, max_iter))"
   ]
  },
  {
   "cell_type": "code",
   "execution_count": 10,
   "id": "5e8389c1",
   "metadata": {
    "scrolled": false
   },
   "outputs": [
    {
     "name": "stdout",
     "output_type": "stream",
     "text": [
      "(BEST MODEL) k1=1 k2=16 coherence=0.90\n"
     ]
    },
    {
     "data": {
      "image/png": "[encoded data removed]",
      "text/plain": [
       "<Figure size 640x480 with 2 Axes>"
      ]
     },
     "metadata": {},
     "output_type": "display_data"
    }
   ],
   "source": [
    "best_params = np.argmax(scores)\n",
    "print(\"(BEST MODEL) k1=%s k2=%s coherence=%.2f\"  %(params[best_params][0], params[best_params][1],  scores[best_params]))\n",
    "\n",
    "data = pd.DataFrame(data={'k1':list(zip(*params))[0], 'k2':list(zip(*params))[1], 'score':scores})\n",
    "data = data.pivot(index='k1', columns='k2', values='score')\n",
    "sns.heatmap(data)\n",
    "plt.show()"
   ]
  },
  {
   "cell_type": "markdown",
   "id": "bb9cf03c",
   "metadata": {},
   "source": [
    "**1. Choose the best parameters**"
   ]
  },
  {
   "cell_type": "code",
   "execution_count": 11,
   "id": "ea2a3635",
   "metadata": {},
   "outputs": [],
   "source": [
    "#################################################\n",
    "### Set the best model\n",
    "best_k1 = params[best_params][0] \n",
    "best_k2 = params[best_params][1]\n",
    "model = tp.PAModel(tw=tp.TermWeight.IDF, min_cf=5, k1=best_k1, k2=best_k2, corpus=corpus, seed=0)\n",
    "model.burn_in=100\n",
    "model.train(1000, workers=1)"
   ]
  },
  {
   "cell_type": "markdown",
   "id": "df0e87cb",
   "metadata": {},
   "source": [
    "**2. Print all the topics**"
   ]
  },
  {
   "cell_type": "code",
   "execution_count": 12,
   "id": "6f9b68a3",
   "metadata": {
    "scrolled": false
   },
   "outputs": [
    {
     "name": "stdout",
     "output_type": "stream",
     "text": [
      "Topic #0\n",
      "\t ['kilo', 'pesetas', 'aceite', 'precio', 'fábrica', 'endo', 'venta', 'vino', 'cocina', 'céntimo']\n",
      "Topic #1\n",
      "\t ['mano', 'dio', 'padre', 'mujer', 'tierra', 'puerta', 'hombro', 'brazo', 'salir', 'novela']\n",
      "Topic #2\n",
      "\t ['toro', 'faena', 'torero', 'muleta', 'corrida', 'equipo', 'pinchazo', 'torear', 'estocada', 'valiente']\n",
      "Topic #3\n",
      "\t ['vendo', 'mueble', 'compro', 'consulta', 'teléfono', 'escribir', 'alhaja', 'montera', 'preciado', 'cama']\n",
      "Topic #4\n",
      "\t ['vida', 'hombre', 'mundo', 'querer', 'ciencia', 'idea', 'cosa', 'libro', 'dejar', 'siglo']\n",
      "Topic #5\n",
      "\t ['gobierno', 'país', 'millón', 'nación', 'problema', 'alemania', 'londres', 'industria', 'cuestión', 'francia']\n",
      "Topic #6\n",
      "\t ['doctor', 'escuela', 'exposición', 'municipal', 'universidad', 'provincial', 'edad', 'profesor', 'academia', 'servicio']\n",
      "Topic #7\n",
      "\t ['calle', 'josé', 'año', 'garcía', 'antonio', 'lesión', 'manuel', 'francisco', 'fernández', 'lópez']\n",
      "Topic #8\n",
      "\t ['ídem', 'medio', 'cuarto', 'media', 'éxito', 'orquesta', 'partido', 'estreno', 'comedia', 'misa']\n",
      "Topic #9\n",
      "\t ['moda', 'película', 'artista', 'arte', 'traje', 'goya', 'piel', 'flor', 'color', 'negro']\n",
      "Topic #10\n",
      "\t ['conde', 'marqués', 'doña', 'condesa', 'duque', 'reina', 'duquesa', 'señora', 'teatro', 'palacio']\n",
      "Topic #11\n",
      "\t ['huelga', 'quie', 'diel', 'quei', 'deil', 'obrero', 'patrono', 'lois', 'pairar', 'sindicato']\n",
      "Topic #12\n",
      "\t ['lais', 'quia', 'xuanón', 'cpie', 'alto', 'lili', 'rojo', 'carbón', 'telegrama', 'liar']\n",
      "Topic #13\n",
      "\t ['español', 'labor', 'elemento', 'hecho', 'mercado', 'adquirir', 'importancia', 'formar', 'social', 'grupo']\n",
      "Topic #14\n",
      "\t ['comisión', 'presidente', 'sesión', 'consejo', 'decreto', 'asunto', 'ministerio', 'ayer', 'asamblea', 'orden']\n",
      "Topic #15\n",
      "\t ['herido', 'cadáver', 'capitán', 'incendio', 'gobernador', 'soldado', 'muerto', 'tren', 'puerto', 'coronel']\n"
     ]
    }
   ],
   "source": [
    "#############################################\n",
    "#### Topics gonna be here \n",
    "for k in range(best_k2):\n",
    "    print('Topic #{}'.format(k))\n",
    "    print(\"\\t\", [w for w, _ in model.get_topic_words(k)])\n",
    "        "
   ]
  },
  {
   "cell_type": "markdown",
   "id": "57f8a826",
   "metadata": {},
   "source": [
    "**3. Save parameters of best model**"
   ]
  },
  {
   "cell_type": "code",
   "execution_count": 13,
   "id": "dde69f7b",
   "metadata": {},
   "outputs": [
    {
     "name": "stderr",
     "output_type": "stream",
     "text": [
      "/var/folders/2q/0m20dkz155q57k88fsjsg8b00000gn/T/ipykernel_94845/1083958019.py:3: FutureWarning: The frame.append method is deprecated and will be removed from pandas in a future version. Use pandas.concat instead.\n",
      "  param_df = param_df.append({\"country\" : DATA_PATH.split(\"_\")[-1].split(\".\")[0],\n"
     ]
    }
   ],
   "source": [
    "# Save parameters\n",
    "param_df = pd.read_csv('../data/params.csv') \n",
    "param_df = param_df.append({\"country\" : DATA_PATH.split(\"_\")[-1].split(\".\")[0],\n",
    "          \"keyword\" : DATA_PATH.split(\"/\")[-1].split(\"_\")[0],\n",
    "          \"period\" : (str(START_DATE.year) + \"-\" + str(END_DATE.year)),\n",
    "          \"k1\" : best_k1,\n",
    "          \"k2\" : best_k2,\n",
    "          \"corr\" : scores[best_params]}, ignore_index=True)\n",
    "param_df.to_csv('../data/params.csv', index = False)"
   ]
  },
  {
   "cell_type": "code",
   "execution_count": 14,
   "id": "f76b338a",
   "metadata": {},
   "outputs": [
    {
     "data": {
      "text/html": [
       "<div>\n",
       "<style scoped>\n",
       "    .dataframe tbody tr th:only-of-type {\n",
       "        vertical-align: middle;\n",
       "    }\n",
       "\n",
       "    .dataframe tbody tr th {\n",
       "        vertical-align: top;\n",
       "    }\n",
       "\n",
       "    .dataframe thead th {\n",
       "        text-align: right;\n",
       "    }\n",
       "</style>\n",
       "<table border=\"1\" class=\"dataframe\">\n",
       "  <thead>\n",
       "    <tr style=\"text-align: right;\">\n",
       "      <th></th>\n",
       "      <th>country</th>\n",
       "      <th>keyword</th>\n",
       "      <th>period</th>\n",
       "      <th>k1</th>\n",
       "      <th>k2</th>\n",
       "      <th>corr</th>\n",
       "    </tr>\n",
       "  </thead>\n",
       "  <tbody>\n",
       "    <tr>\n",
       "      <th>85</th>\n",
       "      <td>es</td>\n",
       "      <td>steel</td>\n",
       "      <td>1900-1910</td>\n",
       "      <td>1</td>\n",
       "      <td>21</td>\n",
       "      <td>0.853575</td>\n",
       "    </tr>\n",
       "    <tr>\n",
       "      <th>86</th>\n",
       "      <td>es</td>\n",
       "      <td>steel</td>\n",
       "      <td>1910-1920</td>\n",
       "      <td>1</td>\n",
       "      <td>24</td>\n",
       "      <td>0.929265</td>\n",
       "    </tr>\n",
       "    <tr>\n",
       "      <th>87</th>\n",
       "      <td>es</td>\n",
       "      <td>steel</td>\n",
       "      <td>1920-1930</td>\n",
       "      <td>1</td>\n",
       "      <td>20</td>\n",
       "      <td>0.933438</td>\n",
       "    </tr>\n",
       "    <tr>\n",
       "      <th>88</th>\n",
       "      <td>es</td>\n",
       "      <td>coal</td>\n",
       "      <td>1860-1870</td>\n",
       "      <td>1</td>\n",
       "      <td>12</td>\n",
       "      <td>0.786385</td>\n",
       "    </tr>\n",
       "    <tr>\n",
       "      <th>89</th>\n",
       "      <td>es</td>\n",
       "      <td>coal</td>\n",
       "      <td>1870-1880</td>\n",
       "      <td>2</td>\n",
       "      <td>13</td>\n",
       "      <td>0.832676</td>\n",
       "    </tr>\n",
       "    <tr>\n",
       "      <th>90</th>\n",
       "      <td>es</td>\n",
       "      <td>coal</td>\n",
       "      <td>1880-1890</td>\n",
       "      <td>1</td>\n",
       "      <td>22</td>\n",
       "      <td>0.768587</td>\n",
       "    </tr>\n",
       "    <tr>\n",
       "      <th>91</th>\n",
       "      <td>es</td>\n",
       "      <td>coal</td>\n",
       "      <td>1890-1900</td>\n",
       "      <td>1</td>\n",
       "      <td>23</td>\n",
       "      <td>0.896573</td>\n",
       "    </tr>\n",
       "    <tr>\n",
       "      <th>92</th>\n",
       "      <td>es</td>\n",
       "      <td>coal</td>\n",
       "      <td>1900-1910</td>\n",
       "      <td>2</td>\n",
       "      <td>21</td>\n",
       "      <td>0.823916</td>\n",
       "    </tr>\n",
       "    <tr>\n",
       "      <th>93</th>\n",
       "      <td>es</td>\n",
       "      <td>coal</td>\n",
       "      <td>1910-1920</td>\n",
       "      <td>1</td>\n",
       "      <td>13</td>\n",
       "      <td>0.913935</td>\n",
       "    </tr>\n",
       "    <tr>\n",
       "      <th>94</th>\n",
       "      <td>es</td>\n",
       "      <td>coal</td>\n",
       "      <td>1920-1930</td>\n",
       "      <td>1</td>\n",
       "      <td>16</td>\n",
       "      <td>0.897234</td>\n",
       "    </tr>\n",
       "  </tbody>\n",
       "</table>\n",
       "</div>"
      ],
      "text/plain": [
       "   country keyword     period  k1  k2      corr\n",
       "85      es   steel  1900-1910   1  21  0.853575\n",
       "86      es   steel  1910-1920   1  24  0.929265\n",
       "87      es   steel  1920-1930   1  20  0.933438\n",
       "88      es    coal  1860-1870   1  12  0.786385\n",
       "89      es    coal  1870-1880   2  13  0.832676\n",
       "90      es    coal  1880-1890   1  22  0.768587\n",
       "91      es    coal  1890-1900   1  23  0.896573\n",
       "92      es    coal  1900-1910   2  21  0.823916\n",
       "93      es    coal  1910-1920   1  13  0.913935\n",
       "94      es    coal  1920-1930   1  16  0.897234"
      ]
     },
     "execution_count": 14,
     "metadata": {},
     "output_type": "execute_result"
    }
   ],
   "source": [
    "df = pd.read_csv('output/params.csv')\n",
    "df.tail(10)"
   ]
  },
  {
   "cell_type": "markdown",
   "id": "b76ed7c0",
   "metadata": {},
   "source": [
    "**4. Compute Average Coherence**"
   ]
  },
  {
   "cell_type": "code",
   "execution_count": 15,
   "id": "0b294bcd",
   "metadata": {},
   "outputs": [
    {
     "name": "stderr",
     "output_type": "stream",
     "text": [
      "/var/folders/2q/0m20dkz155q57k88fsjsg8b00000gn/T/ipykernel_94845/86344144.py:1: FutureWarning: The default value of numeric_only in DataFrameGroupBy.mean is deprecated. In a future version, numeric_only will default to False. Either specify numeric_only or select only columns which should be valid for the function.\n",
      "  df.groupby([\"country\", \"keyword\"]).mean()\n"
     ]
    },
    {
     "data": {
      "text/html": [
       "<div>\n",
       "<style scoped>\n",
       "    .dataframe tbody tr th:only-of-type {\n",
       "        vertical-align: middle;\n",
       "    }\n",
       "\n",
       "    .dataframe tbody tr th {\n",
       "        vertical-align: top;\n",
       "    }\n",
       "\n",
       "    .dataframe thead th {\n",
       "        text-align: right;\n",
       "    }\n",
       "</style>\n",
       "<table border=\"1\" class=\"dataframe\">\n",
       "  <thead>\n",
       "    <tr style=\"text-align: right;\">\n",
       "      <th></th>\n",
       "      <th></th>\n",
       "      <th>k1</th>\n",
       "      <th>k2</th>\n",
       "      <th>corr</th>\n",
       "    </tr>\n",
       "    <tr>\n",
       "      <th>country</th>\n",
       "      <th>keyword</th>\n",
       "      <th></th>\n",
       "      <th></th>\n",
       "      <th></th>\n",
       "    </tr>\n",
       "  </thead>\n",
       "  <tbody>\n",
       "    <tr>\n",
       "      <th rowspan=\"4\" valign=\"top\">de</th>\n",
       "      <th>coal</th>\n",
       "      <td>1.200000</td>\n",
       "      <td>16.000000</td>\n",
       "      <td>0.924588</td>\n",
       "    </tr>\n",
       "    <tr>\n",
       "      <th>elec</th>\n",
       "      <td>1.400000</td>\n",
       "      <td>13.000000</td>\n",
       "      <td>0.725082</td>\n",
       "    </tr>\n",
       "    <tr>\n",
       "      <th>steel</th>\n",
       "      <td>1.000000</td>\n",
       "      <td>14.200000</td>\n",
       "      <td>0.930735</td>\n",
       "    </tr>\n",
       "    <tr>\n",
       "      <th>telegraph</th>\n",
       "      <td>1.600000</td>\n",
       "      <td>18.800000</td>\n",
       "      <td>0.804443</td>\n",
       "    </tr>\n",
       "    <tr>\n",
       "      <th rowspan=\"4\" valign=\"top\">es</th>\n",
       "      <th>coal</th>\n",
       "      <td>1.285714</td>\n",
       "      <td>17.142857</td>\n",
       "      <td>0.845615</td>\n",
       "    </tr>\n",
       "    <tr>\n",
       "      <th>elec</th>\n",
       "      <td>1.500000</td>\n",
       "      <td>19.166667</td>\n",
       "      <td>0.801458</td>\n",
       "    </tr>\n",
       "    <tr>\n",
       "      <th>steel</th>\n",
       "      <td>1.285714</td>\n",
       "      <td>18.142857</td>\n",
       "      <td>0.811958</td>\n",
       "    </tr>\n",
       "    <tr>\n",
       "      <th>telegraph</th>\n",
       "      <td>1.666667</td>\n",
       "      <td>21.000000</td>\n",
       "      <td>0.793348</td>\n",
       "    </tr>\n",
       "    <tr>\n",
       "      <th rowspan=\"4\" valign=\"top\">fr</th>\n",
       "      <th>coal</th>\n",
       "      <td>2.000000</td>\n",
       "      <td>23.428571</td>\n",
       "      <td>0.746549</td>\n",
       "    </tr>\n",
       "    <tr>\n",
       "      <th>elec</th>\n",
       "      <td>1.750000</td>\n",
       "      <td>15.750000</td>\n",
       "      <td>0.694521</td>\n",
       "    </tr>\n",
       "    <tr>\n",
       "      <th>steel</th>\n",
       "      <td>1.400000</td>\n",
       "      <td>9.600000</td>\n",
       "      <td>0.576970</td>\n",
       "    </tr>\n",
       "    <tr>\n",
       "      <th>telegraph</th>\n",
       "      <td>1.833333</td>\n",
       "      <td>18.000000</td>\n",
       "      <td>0.771936</td>\n",
       "    </tr>\n",
       "    <tr>\n",
       "      <th rowspan=\"4\" valign=\"top\">it</th>\n",
       "      <th>coal</th>\n",
       "      <td>1.000000</td>\n",
       "      <td>14.000000</td>\n",
       "      <td>0.550378</td>\n",
       "    </tr>\n",
       "    <tr>\n",
       "      <th>elec</th>\n",
       "      <td>1.500000</td>\n",
       "      <td>17.500000</td>\n",
       "      <td>0.510210</td>\n",
       "    </tr>\n",
       "    <tr>\n",
       "      <th>steel</th>\n",
       "      <td>2.500000</td>\n",
       "      <td>15.000000</td>\n",
       "      <td>0.768201</td>\n",
       "    </tr>\n",
       "    <tr>\n",
       "      <th>telegraph</th>\n",
       "      <td>2.000000</td>\n",
       "      <td>14.500000</td>\n",
       "      <td>0.730653</td>\n",
       "    </tr>\n",
       "    <tr>\n",
       "      <th rowspan=\"4\" valign=\"top\">us</th>\n",
       "      <th>coal</th>\n",
       "      <td>1.400000</td>\n",
       "      <td>17.600000</td>\n",
       "      <td>0.834701</td>\n",
       "    </tr>\n",
       "    <tr>\n",
       "      <th>elec</th>\n",
       "      <td>1.200000</td>\n",
       "      <td>20.400000</td>\n",
       "      <td>0.910367</td>\n",
       "    </tr>\n",
       "    <tr>\n",
       "      <th>steel</th>\n",
       "      <td>1.000000</td>\n",
       "      <td>17.600000</td>\n",
       "      <td>0.932324</td>\n",
       "    </tr>\n",
       "    <tr>\n",
       "      <th>telegraph</th>\n",
       "      <td>1.000000</td>\n",
       "      <td>13.000000</td>\n",
       "      <td>0.924811</td>\n",
       "    </tr>\n",
       "  </tbody>\n",
       "</table>\n",
       "</div>"
      ],
      "text/plain": [
       "                         k1         k2      corr\n",
       "country keyword                                 \n",
       "de      coal       1.200000  16.000000  0.924588\n",
       "        elec       1.400000  13.000000  0.725082\n",
       "        steel      1.000000  14.200000  0.930735\n",
       "        telegraph  1.600000  18.800000  0.804443\n",
       "es      coal       1.285714  17.142857  0.845615\n",
       "        elec       1.500000  19.166667  0.801458\n",
       "        steel      1.285714  18.142857  0.811958\n",
       "        telegraph  1.666667  21.000000  0.793348\n",
       "fr      coal       2.000000  23.428571  0.746549\n",
       "        elec       1.750000  15.750000  0.694521\n",
       "        steel      1.400000   9.600000  0.576970\n",
       "        telegraph  1.833333  18.000000  0.771936\n",
       "it      coal       1.000000  14.000000  0.550378\n",
       "        elec       1.500000  17.500000  0.510210\n",
       "        steel      2.500000  15.000000  0.768201\n",
       "        telegraph  2.000000  14.500000  0.730653\n",
       "us      coal       1.400000  17.600000  0.834701\n",
       "        elec       1.200000  20.400000  0.910367\n",
       "        steel      1.000000  17.600000  0.932324\n",
       "        telegraph  1.000000  13.000000  0.924811"
      ]
     },
     "execution_count": 15,
     "metadata": {},
     "output_type": "execute_result"
    }
   ],
   "source": [
    "df.groupby([\"country\", \"keyword\"]).mean()"
   ]
  },
  {
   "cell_type": "code",
   "execution_count": 16,
   "id": "76a53ffb",
   "metadata": {},
   "outputs": [
    {
     "name": "stderr",
     "output_type": "stream",
     "text": [
      "/var/folders/2q/0m20dkz155q57k88fsjsg8b00000gn/T/ipykernel_94845/614818516.py:1: FutureWarning: The default value of numeric_only in DataFrameGroupBy.mean is deprecated. In a future version, numeric_only will default to False. Either specify numeric_only or select only columns which should be valid for the function.\n",
      "  df.groupby([\"country\"]).mean()\n"
     ]
    },
    {
     "data": {
      "text/html": [
       "<div>\n",
       "<style scoped>\n",
       "    .dataframe tbody tr th:only-of-type {\n",
       "        vertical-align: middle;\n",
       "    }\n",
       "\n",
       "    .dataframe tbody tr th {\n",
       "        vertical-align: top;\n",
       "    }\n",
       "\n",
       "    .dataframe thead th {\n",
       "        text-align: right;\n",
       "    }\n",
       "</style>\n",
       "<table border=\"1\" class=\"dataframe\">\n",
       "  <thead>\n",
       "    <tr style=\"text-align: right;\">\n",
       "      <th></th>\n",
       "      <th>k1</th>\n",
       "      <th>k2</th>\n",
       "      <th>corr</th>\n",
       "    </tr>\n",
       "    <tr>\n",
       "      <th>country</th>\n",
       "      <th></th>\n",
       "      <th></th>\n",
       "      <th></th>\n",
       "    </tr>\n",
       "  </thead>\n",
       "  <tbody>\n",
       "    <tr>\n",
       "      <th>de</th>\n",
       "      <td>1.300000</td>\n",
       "      <td>15.500000</td>\n",
       "      <td>0.846212</td>\n",
       "    </tr>\n",
       "    <tr>\n",
       "      <th>es</th>\n",
       "      <td>1.423077</td>\n",
       "      <td>18.769231</td>\n",
       "      <td>0.814302</td>\n",
       "    </tr>\n",
       "    <tr>\n",
       "      <th>fr</th>\n",
       "      <td>1.772727</td>\n",
       "      <td>17.409091</td>\n",
       "      <td>0.700746</td>\n",
       "    </tr>\n",
       "    <tr>\n",
       "      <th>it</th>\n",
       "      <td>1.750000</td>\n",
       "      <td>15.250000</td>\n",
       "      <td>0.639860</td>\n",
       "    </tr>\n",
       "    <tr>\n",
       "      <th>us</th>\n",
       "      <td>1.157895</td>\n",
       "      <td>17.368421</td>\n",
       "      <td>0.899274</td>\n",
       "    </tr>\n",
       "  </tbody>\n",
       "</table>\n",
       "</div>"
      ],
      "text/plain": [
       "               k1         k2      corr\n",
       "country                               \n",
       "de       1.300000  15.500000  0.846212\n",
       "es       1.423077  18.769231  0.814302\n",
       "fr       1.772727  17.409091  0.700746\n",
       "it       1.750000  15.250000  0.639860\n",
       "us       1.157895  17.368421  0.899274"
      ]
     },
     "execution_count": 16,
     "metadata": {},
     "output_type": "execute_result"
    }
   ],
   "source": [
    "df.groupby([\"country\"]).mean()"
   ]
  }
 ],
 "metadata": {
  "kernelspec": {
   "display_name": "Python 3 (ipykernel)",
   "language": "python",
   "name": "python3"
  },
  "language_info": {
   "codemirror_mode": {
    "name": "ipython",
    "version": 3
   },
   "file_extension": ".py",
   "mimetype": "text/x-python",
   "name": "python",
   "nbconvert_exporter": "python",
   "pygments_lexer": "ipython3",
   "version": "3.8.3"
  }
 },
 "nbformat": 4,
 "nbformat_minor": 5
}
