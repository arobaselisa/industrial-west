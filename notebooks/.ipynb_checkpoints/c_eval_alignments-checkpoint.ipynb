{
 "cells": [
  {
   "cell_type": "code",
   "execution_count": 307,
   "id": "5fe8001f",
   "metadata": {},
   "outputs": [],
   "source": [
    "from gensim.models import FastText\n",
    "import pandas as pd\n",
    "import helpers\n",
    "from sklearn.neighbors import NearestNeighbors\n",
    "import io\n",
    "import numpy as np\n",
    "from tqdm import tqdm\n",
    "import tensorflow as tf\n",
    "import matplotlib.pyplot as plt\n",
    "from scipy.linalg import orth\n",
    "from sklearn.preprocessing import normalize"
   ]
  },
  {
   "cell_type": "code",
   "execution_count": 2,
   "id": "546c322b",
   "metadata": {},
   "outputs": [],
   "source": [
    "# load data\n",
    "data_us = pd.read_csv(\"./data/telegraph_articles_us.csv\", index_col=\"Unnamed: 0\")\n",
    "data_fr = pd.read_csv(\"./data/telegraph_articles_fr.csv\", index_col=\"Unnamed: 0\")"
   ]
  },
  {
   "cell_type": "code",
   "execution_count": 3,
   "id": "2d0cdc5d",
   "metadata": {},
   "outputs": [
    {
     "name": "stdout",
     "output_type": "stream",
     "text": [
      "Create corpus for model...\n",
      "Runtime: 0.48 seconds || Completed: 1 of 1000\n",
      "Runtime: 332.77 seconds || Completed: 501 of 1000\n",
      "Done !\n"
     ]
    }
   ],
   "source": [
    "print(\"Create corpus for model...\")\n",
    "raw_docs_fr, _ = helpers.create_corpus(data_fr.sample(1000), \"fr_core_news_sm\")\n",
    "print(\"Done !\")"
   ]
  },
  {
   "cell_type": "code",
   "execution_count": 4,
   "id": "7295d9e1",
   "metadata": {
    "scrolled": true
   },
   "outputs": [
    {
     "name": "stdout",
     "output_type": "stream",
     "text": [
      "Create corpus for model...\n",
      "Runtime: 1.55 seconds || Completed: 1 of 1000\n",
      "Runtime: 409.16 seconds || Completed: 501 of 1000\n",
      "Done !\n"
     ]
    }
   ],
   "source": [
    "print(\"Create corpus for model...\")\n",
    "raw_docs_us, _ = helpers.create_corpus(data_us.sample(1000), \"en_core_web_sm\")\n",
    "print(\"Done !\")"
   ]
  },
  {
   "cell_type": "code",
   "execution_count": 5,
   "id": "e342a8d1",
   "metadata": {},
   "outputs": [],
   "source": [
    "# Fasttext\n",
    "ftt_model_fr = FastText(vector_size=100, \n",
    "                     window=5, \n",
    "                     min_count=1, \n",
    "                     sentences=raw_docs_fr, \n",
    "                     epochs=15)\n",
    "\n",
    "ftt_model_us = FastText(vector_size=100, \n",
    "                     window=5, \n",
    "                     min_count=1, \n",
    "                     sentences=raw_docs_us, \n",
    "                     epochs=15)"
   ]
  },
  {
   "cell_type": "code",
   "execution_count": 6,
   "id": "709fd53b",
   "metadata": {},
   "outputs": [],
   "source": [
    "# Load translations, from MUSE project\n",
    "# https://github.com/facebookresearch/MUSE\n",
    "with open('../data/fr-en.0-5000.txt') as f:\n",
    "    lines = f.readlines()\n",
    "    \n",
    "translations_train = dict()\n",
    "for l in lines:\n",
    "    fr = l.split(\" \")[0]\n",
    "    en = l.split(\" \")[1].replace(\"\\n\", \"\")\n",
    "    translations_train[fr] = en\n",
    "\n",
    "with open('../data/fr-en.5000-6500.txt') as f:\n",
    "    lines = f.readlines()\n",
    "    \n",
    "translations_test = dict()\n",
    "for l in lines:\n",
    "    fr = l.split(\" \")[0]\n",
    "    en = l.split(\" \")[1].replace(\"\\n\", \"\")\n",
    "    translations_test[fr] = en"
   ]
  },
  {
   "cell_type": "markdown",
   "id": "a5a9e1b2",
   "metadata": {},
   "source": [
    "### 2. Alignments\n",
    "\n",
    "#### 2.1 Create input data"
   ]
  },
  {
   "cell_type": "code",
   "execution_count": 7,
   "id": "bc246e1a",
   "metadata": {},
   "outputs": [
    {
     "name": "stderr",
     "output_type": "stream",
     "text": [
      "100%|██████████████████████████████████████| 5000/5000 [00:07<00:00, 625.96it/s]\n"
     ]
    }
   ],
   "source": [
    "X = np.array([]) #french\n",
    "Z = np.array([]) #american\n",
    "\n",
    "for w_fr, w_en in tqdm(translations_train.items()):\n",
    "    try:\n",
    "        word_vector_fr = ftt_model_fr.wv[w_fr]\n",
    "        word_vector_en = ftt_model_us.wv[w_en]\n",
    "        X = np.vstack([X, word_vector_fr]) if X.size else word_vector_fr\n",
    "        Z = np.vstack([Z, word_vector_en]) if Z.size else word_vector_en\n",
    "    except:\n",
    "        pass"
   ]
  },
  {
   "cell_type": "markdown",
   "id": "f375a2f7",
   "metadata": {},
   "source": [
    "#### 2.2 SGD Least squares alignment"
   ]
  },
  {
   "cell_type": "code",
   "execution_count": 246,
   "id": "9bb932ea",
   "metadata": {},
   "outputs": [
    {
     "name": "stderr",
     "output_type": "stream",
     "text": [
      "100%|█████████████████████████████████████████| 600/600 [00:12<00:00, 46.82it/s]\n"
     ]
    }
   ],
   "source": [
    "# Create needed objects\n",
    "sgd = tf.keras.optimizers.SGD(learning_rate=1e-6, momentum=0.9)\n",
    "np.random.seed(0)\n",
    "var = tf.Variable(np.random.rand(np.shape(X)[1],np.shape(X)[1]))\n",
    "cost = lambda: tf.norm(var@X.T-Z.T)**2\n",
    "loss = []\n",
    "\n",
    "tf.compat.v1.logging.set_verbosity(tf.compat.v1.logging.ERROR)\n",
    "\n",
    "# Perform optimization\n",
    "for i in tqdm(range(600)):\n",
    "    sgd.minimize(cost, var_list=[var])\n",
    "    if i % 20 == 0:\n",
    "        loss += [np.sum(np.abs(cost().numpy()))]"
   ]
  },
  {
   "cell_type": "code",
   "execution_count": 247,
   "id": "b3f71b3d",
   "metadata": {},
   "outputs": [
    {
     "data": {
      "image/png": "[encoded data removed]",
      "text/plain": [
       "<Figure size 640x480 with 1 Axes>"
      ]
     },
     "metadata": {},
     "output_type": "display_data"
    }
   ],
   "source": [
    "plt.plot(loss)\n",
    "plt.ylabel('Loss')\n",
    "plt.yscale('log')\n",
    "plt.show()"
   ]
  },
  {
   "cell_type": "code",
   "execution_count": 10,
   "id": "2170310d",
   "metadata": {},
   "outputs": [],
   "source": [
    "def compute_accuracy(W, ftt_model_fr, ftt_model_us, trans, n_neighbors):\n",
    "    # aligned words\n",
    "    aligned_fr = np.array([]) #french\n",
    "    aligned_us = np.array([]) #american\n",
    "    id2word_fr = dict()\n",
    "    word2id_us = dict()\n",
    "\n",
    "    for i, (w_fr, w_us) in enumerate(trans.items()):\n",
    "        try:\n",
    "            word_vector_fr = W@ftt_model_fr.wv[w_fr]\n",
    "            word_vector_us = ftt_model_us.wv[w_us]\n",
    "            aligned_fr = np.vstack([aligned_fr, word_vector_fr]) if aligned_fr.size else word_vector_fr\n",
    "            aligned_us = np.vstack([aligned_us, word_vector_us]) if aligned_us.size else word_vector_us\n",
    "            id2word_fr[i] = w_fr\n",
    "            word2id_us[w_us] = i\n",
    "        except:\n",
    "            pass\n",
    "    nbrs = NearestNeighbors(n_neighbors=n_neighbors, algorithm='kd_tree', metric='l1').fit(aligned_us)\n",
    "    _, indices = nbrs.kneighbors(aligned_fr)\n",
    "    \n",
    "    correct = 0\n",
    "    total = 0\n",
    "    for i, nb in enumerate(indices):\n",
    "        try:\n",
    "            if word2id_us[trans[id2word_fr[i]]] in nb: # found translation : great\n",
    "                correct += 1\n",
    "            total += 1\n",
    "        except:\n",
    "            pass\n",
    "    return correct/total"
   ]
  },
  {
   "cell_type": "code",
   "execution_count": 15,
   "id": "0e0edeb3",
   "metadata": {
    "scrolled": true
   },
   "outputs": [
    {
     "name": "stderr",
     "output_type": "stream",
     "text": [
      "100%|███████████████████████████████████████████| 99/99 [14:52<00:00,  9.01s/it]\n"
     ]
    }
   ],
   "source": [
    "accuracies_least_squares = []\n",
    "for i in tqdm(range(1, 100)):\n",
    "    accuracies_least_squares += [compute_accuracy(var.numpy(), ftt_model_fr, ftt_model_us, translations_train, i)]"
   ]
  },
  {
   "cell_type": "markdown",
   "id": "7136ffae",
   "metadata": {},
   "source": [
    "#### 2.2 SGD cosine similarity + ortho"
   ]
  },
  {
   "cell_type": "code",
   "execution_count": 410,
   "id": "ca72860d",
   "metadata": {
    "scrolled": false
   },
   "outputs": [
    {
     "name": "stderr",
     "output_type": "stream",
     "text": [
      "100%|█████████████████████████████████████████| 200/200 [00:04<00:00, 49.99it/s]\n"
     ]
    }
   ],
   "source": [
    "np.random.seed(42)\n",
    "# Normalize arrays\n",
    "#row_sums = X.sum(axis=1)\n",
    "#X_norm = X / row_sums[:, np.newaxis]\n",
    "X_norm = X /np.linalg.norm(X, axis=1)[:, np.newaxis]\n",
    "#row_sums = Z.sum(axis=1)\n",
    "#Z_norm = Z / row_sums[:, np.newaxis]\n",
    "Z_norm = Z /np.linalg.norm(Z, axis=1)[:, np.newaxis]\n",
    "# Create needed objects\n",
    "sgd = tf.keras.optimizers.SGD(learning_rate=1e-4, momentum=0.9)\n",
    "var_cosine = tf.Variable(np.random.rand(np.shape(X)[1],np.shape(X)[1]))\n",
    "# from this paper : https://aclanthology.org/N15-1104.pdf\n",
    "#cost = lambda : -sum([tf.tensordot(tf.tensordot(var_cosine, xi.T, axes=1), yi, axes=1) for xi, yi in zip(X_norm.astype(\"float64\"), Z_norm.astype(\"float64\"))])\n",
    "#cost = lambda : -sum(var_cosine@X_norm.T@Z_norm)\n",
    "cost = lambda: tf.norm(var_cosine@X_norm.T-Z_norm.T)**2\n",
    "loss = []\n",
    "\n",
    "tf.compat.v1.logging.set_verbosity(tf.compat.v1.logging.ERROR)\n",
    "\n",
    "# Perform optimization\n",
    "for i in tqdm(range(200)):\n",
    "    sgd.minimize(cost, var_list=[var_cosine])\n",
    "    if i % 5 == 0:\n",
    "        loss += [np.sum(np.abs(cost().numpy()))]\n",
    "    #var_cosine = tf.Variable(orth(var_cosine.numpy()))\n",
    "        "
   ]
  },
  {
   "cell_type": "code",
   "execution_count": 411,
   "id": "6cc1d198",
   "metadata": {},
   "outputs": [
    {
     "data": {
      "image/png": "[encoded data removed]",
      "text/plain": [
       "<Figure size 640x480 with 1 Axes>"
      ]
     },
     "metadata": {},
     "output_type": "display_data"
    }
   ],
   "source": [
    "plt.plot(loss)\n",
    "plt.ylabel('Loss')\n",
    "plt.yscale('log')\n",
    "plt.show()"
   ]
  },
  {
   "cell_type": "code",
   "execution_count": 334,
   "id": "10e6858c",
   "metadata": {},
   "outputs": [],
   "source": [
    "def compute_accuracy_ortho(W, ftt_model_fr, ftt_model_us, trans, n_neighbors):\n",
    "    # aligned words\n",
    "    aligned_fr = np.array([]) #french\n",
    "    aligned_us = np.array([]) #american\n",
    "    id2word_fr = dict()\n",
    "    word2id_us = dict()\n",
    "\n",
    "    for i, (w_fr, w_us) in enumerate(trans.items()):\n",
    "        try:\n",
    "            # normalize\n",
    "            norm_us = ftt_model_us.wv[w_us]/np.linalg.norm(ftt_model_us.wv[w_us])\n",
    "            norm_fr = ftt_model_fr.wv[w_fr]/np.linalg.norm(ftt_model_fr.wv[w_fr])\n",
    "            word_vector_fr = W@norm_fr\n",
    "            word_vector_us = norm_us\n",
    "            aligned_fr = np.vstack([aligned_fr, word_vector_fr]) if aligned_fr.size else word_vector_fr\n",
    "            aligned_us = np.vstack([aligned_us, word_vector_us]) if aligned_us.size else word_vector_us\n",
    "            id2word_fr[i] = w_fr\n",
    "            word2id_us[w_us] = i\n",
    "        except:\n",
    "            pass\n",
    "    nbrs = NearestNeighbors(n_neighbors=n_neighbors, algorithm='kd_tree', metric='l1').fit(aligned_us)\n",
    "    _, indices = nbrs.kneighbors(aligned_fr)\n",
    "    \n",
    "    correct = 0\n",
    "    total = 0\n",
    "    for i, nb in enumerate(indices):\n",
    "        try:\n",
    "            if word2id_us[trans[id2word_fr[i]]] in nb: # found translation : great\n",
    "                correct += 1\n",
    "            total += 1\n",
    "        except:\n",
    "            pass\n",
    "    return correct/total"
   ]
  },
  {
   "cell_type": "code",
   "execution_count": 413,
   "id": "e12d84c6",
   "metadata": {
    "scrolled": false
   },
   "outputs": [
    {
     "name": "stderr",
     "output_type": "stream",
     "text": [
      "100%|███████████████████████████████████████████| 99/99 [15:39<00:00,  9.49s/it]\n"
     ]
    }
   ],
   "source": [
    "accuracies_ortho = []\n",
    "for i in tqdm(range(1, 100)):\n",
    "    accuracies_ortho += [compute_accuracy_ortho(var_cosine.numpy(), ftt_model_fr, ftt_model_us, translations_train, i)]"
   ]
  },
  {
   "cell_type": "markdown",
   "id": "8b9d615a",
   "metadata": {},
   "source": [
    "#### 2.3 Procrustes alignment"
   ]
  },
  {
   "cell_type": "code",
   "execution_count": null,
   "id": "29ad3606",
   "metadata": {},
   "outputs": [],
   "source": [
    "# Done on google colab for GPU use"
   ]
  },
  {
   "cell_type": "code",
   "execution_count": 188,
   "id": "fdc00831",
   "metadata": {},
   "outputs": [],
   "source": [
    "def load_vec(emb_path, nmax=50000):\n",
    "    vectors = []\n",
    "    word2id = {}\n",
    "    with io.open(emb_path, 'r', encoding='utf-8', newline='\\n', errors='ignore') as f:\n",
    "        next(f)\n",
    "        for i, line in enumerate(f):\n",
    "            word, vect = line.rstrip().split(' ', 1)\n",
    "            vect = np.fromstring(vect, sep=' ')\n",
    "            assert word not in word2id, 'word found twice'\n",
    "            vectors.append(vect)\n",
    "            word2id[word] = len(word2id)\n",
    "            if len(word2id) == nmax:\n",
    "                break\n",
    "    id2word = {v: k for k, v in word2id.items()}\n",
    "    embeddings = np.vstack(vectors)\n",
    "    return embeddings, id2word, word2id"
   ]
  },
  {
   "cell_type": "code",
   "execution_count": 189,
   "id": "472fc69b",
   "metadata": {},
   "outputs": [],
   "source": [
    "def compute_accuracy_procrustes(aligned_fr, aligned_us, id2word_fr, word2id_us, trans, n_neighbors):\n",
    "    nbrs = NearestNeighbors(n_neighbors=n_neighbors, algorithm='brute', metric='l1').fit(aligned_us)\n",
    "    _, indices = nbrs.kneighbors(aligned_fr)\n",
    "    \n",
    "    correct = 0\n",
    "    total = 0\n",
    "    for i, nb in enumerate(indices):\n",
    "        try:\n",
    "            if word2id_us[trans[id2word_fr[i]]] in nb: # found translation : great\n",
    "                correct += 1\n",
    "            total += 1\n",
    "        except:\n",
    "            pass\n",
    "    return correct/total"
   ]
  },
  {
   "cell_type": "code",
   "execution_count": 190,
   "id": "8cc2746d",
   "metadata": {},
   "outputs": [],
   "source": [
    "embeddings_fr_pro, id2word_fr_pro, word2id_fr_pro = load_vec(\"./data/vectors-fr.txt\")\n",
    "embeddings_us_pro, id2word_us_pro, word2id_us_pro = load_vec(\"./data/vectors-en.txt\")"
   ]
  },
  {
   "cell_type": "code",
   "execution_count": 199,
   "id": "bb20c2fa",
   "metadata": {},
   "outputs": [
    {
     "name": "stderr",
     "output_type": "stream",
     "text": [
      "100%|█████████████████████████████████████████| 99/99 [1:26:05<00:00, 52.17s/it]\n"
     ]
    }
   ],
   "source": [
    "accuracies_procrustes = []\n",
    "for i in tqdm(range(1, 100)):\n",
    "    if i%5==1:\n",
    "        accuracies_procrustes += [compute_accuracy_procrustes(embeddings_fr_pro, embeddings_us_pro, id2word_fr_pro, word2id_us_pro, translations_train, i)]\n",
    "    else:\n",
    "        accuracies_procrustes += [accuracies_procrustes[-1]]"
   ]
  },
  {
   "cell_type": "markdown",
   "id": "5e3809a8",
   "metadata": {},
   "source": [
    "### 3. Evaluation"
   ]
  },
  {
   "cell_type": "code",
   "execution_count": 194,
   "id": "8d1710f2",
   "metadata": {
    "scrolled": true
   },
   "outputs": [
    {
     "name": "stderr",
     "output_type": "stream",
     "text": [
      "100%|███████████████████████████████████████████| 99/99 [15:39<00:00,  9.49s/it]\n"
     ]
    }
   ],
   "source": [
    "accuracies_beginning = []\n",
    "for i in tqdm(range(1, 100)):\n",
    "    accuracies_beginning += [compute_accuracy(np.identity(np.shape(var.numpy())[0]), ftt_model_fr, ftt_model_us, translations_train, i)]"
   ]
  },
  {
   "cell_type": "code",
   "execution_count": 433,
   "id": "b3b80cba",
   "metadata": {},
   "outputs": [
    {
     "data": {
      "image/png": "[encoded data removed]",
      "text/plain": [
       "<Figure size 640x480 with 1 Axes>"
      ]
     },
     "metadata": {},
     "output_type": "display_data"
    }
   ],
   "source": [
    "import seaborn as sns\n",
    "df_viz = pd.DataFrame()\n",
    "df_viz[\"Before Alignment\"] = accuracies_beginning\n",
    "df_viz[\"Least Squares\"] = accuracies_least_squares\n",
    "df_viz[\"Ortho\"] = accuracies_ortho\n",
    "df_viz[\"Procrustes\"] = accuracies_procrustes\n",
    "sns.lineplot(data=df_viz).set(title = \"Accuracy in Retrieving Translation Pairs \\n Depending On The Number Of Neighbors\" ) \n",
    "plt.savefig(\"accuracies_alignments.png\")"
   ]
  },
  {
   "cell_type": "code",
   "execution_count": 432,
   "id": "2bed8f3b",
   "metadata": {},
   "outputs": [
    {
     "data": {
      "text/plain": [
       "[Text(0.5, 1.0, 'Accuracy in Retrieving Translation Pairs \\n Depending On The Number Of Neighbors')]"
      ]
     },
     "execution_count": 432,
     "metadata": {},
     "output_type": "execute_result"
    }
   ],
   "source": [
    "fig"
   ]
  }
 ],
 "metadata": {
  "kernelspec": {
   "display_name": "Python 3 (ipykernel)",
   "language": "python",
   "name": "python3"
  },
  "language_info": {
   "codemirror_mode": {
    "name": "ipython",
    "version": 3
   },
   "file_extension": ".py",
   "mimetype": "text/x-python",
   "name": "python",
   "nbconvert_exporter": "python",
   "pygments_lexer": "ipython3",
   "version": "3.8.3"
  }
 },
 "nbformat": 4,
 "nbformat_minor": 5
}
